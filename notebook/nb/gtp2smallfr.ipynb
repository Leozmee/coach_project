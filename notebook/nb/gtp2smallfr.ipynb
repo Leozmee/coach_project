{
 "cells": [
  {
   "cell_type": "markdown",
   "metadata": {},
   "source": [
    "imports et configuration GPU"
   ]
  },
  {
   "cell_type": "code",
   "execution_count": 1,
   "metadata": {},
   "outputs": [],
   "source": [
    "import torch, json, random\n",
    "from datasets import load_dataset, Dataset\n",
    "from transformers import AutoTokenizer, AutoModelForCausalLM, TrainingArguments, Trainer\n",
    "from accelerate import find_executable_batch_size\n"
   ]
  },
  {
   "cell_type": "markdown",
   "metadata": {},
   "source": [
    "chargement du jeu de données"
   ]
  },
  {
   "cell_type": "code",
   "execution_count": 4,
   "metadata": {},
   "outputs": [
    {
     "name": "stdout",
     "output_type": "stream",
     "text": [
      "Taille du corpus : 64 paires\n"
     ]
    },
    {
     "data": {
      "application/vnd.jupyter.widget-view+json": {
       "model_id": "f4de8b7cae1c4842a0f2e731a14abdda",
       "version_major": 2,
       "version_minor": 0
      },
      "text/plain": [
       "Map (num_proc=4):   0%|          | 0/288 [00:00<?, ? examples/s]"
      ]
     },
     "metadata": {},
     "output_type": "display_data"
    },
    {
     "data": {
      "application/vnd.jupyter.widget-view+json": {
       "model_id": "cf99b2fe95f24b998298fca2bd2440d5",
       "version_major": 2,
       "version_minor": 0
      },
      "text/plain": [
       "Map (num_proc=4):   0%|          | 0/32 [00:00<?, ? examples/s]"
      ]
     },
     "metadata": {},
     "output_type": "display_data"
    },
    {
     "name": "stderr",
     "output_type": "stream",
     "text": [
      "/tmp/ipykernel_17206/2647936215.py:141: FutureWarning: `tokenizer` is deprecated and will be removed in version 5.0.0 for `Trainer.__init__`. Use `processing_class` instead.\n",
      "  trainer = Trainer(\n",
      "No label_names provided for model class `PeftModel`. Since `PeftModel` hides base models input arguments, if label_names is not given, label_names can't be set automatically within `Trainer`. Note that empty label_names list will be used instead.\n"
     ]
    },
    {
     "name": "stdout",
     "output_type": "stream",
     "text": [
      "Trainables : 1,622,016/83,597,568  → 1.94%\n",
      "5.822582244873047\n",
      "Backward OK ✅\n"
     ]
    },
    {
     "name": "stderr",
     "output_type": "stream",
     "text": [
      "/home/maxime/DataDevIA/chatbotcoach_project/.venv/lib/python3.12/site-packages/torch/_dynamo/eval_frame.py:745: UserWarning: torch.utils.checkpoint: the use_reentrant parameter should be passed explicitly. In version 2.5 we will raise an exception if use_reentrant is not passed. use_reentrant=False is recommended, but if you need to preserve the current default behavior, you can pass use_reentrant=True. Refer to docs for more details on the differences between the two variants.\n",
      "  return fn(*args, **kwargs)\n"
     ]
    },
    {
     "data": {
      "text/html": [
       "\n",
       "    <div>\n",
       "      \n",
       "      <progress value='540' max='540' style='width:300px; height:20px; vertical-align: middle;'></progress>\n",
       "      [540/540 06:48, Epoch 30/30]\n",
       "    </div>\n",
       "    <table border=\"1\" class=\"dataframe\">\n",
       "  <thead>\n",
       " <tr style=\"text-align: left;\">\n",
       "      <th>Step</th>\n",
       "      <th>Training Loss</th>\n",
       "    </tr>\n",
       "  </thead>\n",
       "  <tbody>\n",
       "    <tr>\n",
       "      <td>50</td>\n",
       "      <td>6.065800</td>\n",
       "    </tr>\n",
       "    <tr>\n",
       "      <td>100</td>\n",
       "      <td>4.056000</td>\n",
       "    </tr>\n",
       "    <tr>\n",
       "      <td>150</td>\n",
       "      <td>2.598500</td>\n",
       "    </tr>\n",
       "    <tr>\n",
       "      <td>200</td>\n",
       "      <td>1.734700</td>\n",
       "    </tr>\n",
       "    <tr>\n",
       "      <td>250</td>\n",
       "      <td>1.261500</td>\n",
       "    </tr>\n",
       "    <tr>\n",
       "      <td>300</td>\n",
       "      <td>1.007000</td>\n",
       "    </tr>\n",
       "    <tr>\n",
       "      <td>350</td>\n",
       "      <td>0.867500</td>\n",
       "    </tr>\n",
       "    <tr>\n",
       "      <td>400</td>\n",
       "      <td>0.792500</td>\n",
       "    </tr>\n",
       "    <tr>\n",
       "      <td>450</td>\n",
       "      <td>0.752400</td>\n",
       "    </tr>\n",
       "    <tr>\n",
       "      <td>500</td>\n",
       "      <td>0.732400</td>\n",
       "    </tr>\n",
       "  </tbody>\n",
       "</table><p>"
      ],
      "text/plain": [
       "<IPython.core.display.HTML object>"
      ]
     },
     "metadata": {},
     "output_type": "display_data"
    },
    {
     "name": "stderr",
     "output_type": "stream",
     "text": [
      "/home/maxime/DataDevIA/chatbotcoach_project/.venv/lib/python3.12/site-packages/peft/utils/save_and_load.py:250: UserWarning: Setting `save_embedding_layers` to `True` as the embedding layer has been resized during finetuning.\n",
      "  warnings.warn(\n",
      "/home/maxime/DataDevIA/chatbotcoach_project/.venv/lib/python3.12/site-packages/peft/utils/save_and_load.py:250: UserWarning: Setting `save_embedding_layers` to `True` as the embedding layer has been resized during finetuning.\n",
      "  warnings.warn(\n"
     ]
    },
    {
     "name": "stdout",
     "output_type": "stream",
     "text": [
      "Modèle sauvegardé sous : coach-gpt2-lora-final\n"
     ]
    }
   ],
   "source": [
    "# Fine‑tuning GPT‑2 French (4‑bit + LoRA) – Chatbot Fitness 🔥\n",
    "# Paramètres optimisés pour RTX 3060 Laptop GPU (≈6 Go VRAM) & 16 Go RAM\n",
    "\n",
    "\n",
    "# 1. Imports & setup\n",
    "import os, json, random, torch\n",
    "from datasets import Dataset\n",
    "from transformers import (\n",
    "    AutoTokenizer, AutoModelForCausalLM,\n",
    "    BitsAndBytesConfig, DataCollatorForLanguageModeling,\n",
    "    TrainingArguments, Trainer\n",
    ")\n",
    "from peft import (\n",
    "    LoraConfig, get_peft_model,\n",
    "    prepare_model_for_kbit_training\n",
    ")\n",
    "\n",
    "torch.cuda.empty_cache()\n",
    "\n",
    "\n",
    "\n",
    "### 2. Chargement + pré‑traitement du dataset\n",
    "\n",
    "DATA_PATH = \"/home/maxime/DataDevIA/chatbotcoach_project/data/fitness/coach_sportif_dataset.json\"\n",
    "raw = json.load(open(DATA_PATH, \"r\", encoding=\"utf-8\"))\n",
    "\n",
    "pairs = list({(d[\"input\"].strip(), d[\"output\"].strip()) for d in raw[\"conversations\"]})\n",
    "random.shuffle(pairs)\n",
    "\n",
    "texts = [f\"<user> {q} </user><assistant> {a}\" for q, a in pairs]\n",
    "print(f\"Taille du corpus : {len(texts)} paires\")\n",
    "\n",
    "# On peut étendre artificiellement le nombre d'itérations en répliquant le jeu (oversampling)\n",
    "EPOCH_FACTOR = 5  # ↗ répète 5× le corpus pour plus de pas d'entraînement\n",
    "texts = texts * EPOCH_FACTOR\n",
    "\n",
    "# Construction du Dataset\n",
    "full_ds = Dataset.from_dict({\"text\": texts})\n",
    "ds = full_ds.train_test_split(test_size=0.1, seed=42)\n",
    "\n",
    "\n",
    "\n",
    "### 3. Tokenizer & tokens spéciaux\n",
    "\n",
    "tokenizer_path = \"/home/maxime/DataDevIA/chatbotcoach_project/gpt2-fitness-fr\"\n",
    "tok = AutoTokenizer.from_pretrained(tokenizer_path, use_fast=True)\n",
    "(tok.add_special_tokens({\n",
    "    \"pad_token\": \"<pad>\",\n",
    "    \"additional_special_tokens\": [\"<user>\", \"</user>\", \"<assistant>\"]\n",
    "}))\n",
    "\n",
    "\n",
    "\n",
    "### 4. Pré‑processing\n",
    "\n",
    "def preprocess(batch):\n",
    "    out = tok(batch[\"text\"], truncation=True, padding=\"max_length\", max_length=256)\n",
    "    out[\"labels\"] = out[\"input_ids\"].copy()\n",
    "    return out\n",
    "\n",
    "ds = ds.map(preprocess, batched=True, remove_columns=[\"text\"], num_proc=4)\n",
    "\n",
    "\n",
    "\n",
    "### 5. Data collator\n",
    "\n",
    "data_collator = DataCollatorForLanguageModeling(tok, mlm=False)\n",
    "\n",
    "\n",
    "\n",
    "### 6. Modèle 4‑bit + LoRA (r=16)\n",
    "\n",
    "bnb_cfg = BitsAndBytesConfig(\n",
    "    load_in_4bit=True,\n",
    "    bnb_4bit_quant_type=\"nf4\",\n",
    "    bnb_4bit_use_double_quant=True,\n",
    "    bnb_4bit_compute_dtype=torch.float16,\n",
    ")\n",
    "\n",
    "base_name = \"dbddv01/gpt2-french-small\"\n",
    "base = AutoModelForCausalLM.from_pretrained(base_name, quantization_config=bnb_cfg, device_map=\"auto\")\n",
    "base = prepare_model_for_kbit_training(base)\n",
    "\n",
    "lora_cfg = LoraConfig(\n",
    "    r=16,\n",
    "    lora_alpha=32,\n",
    "    target_modules=[\"c_attn\", \"c_proj\"],\n",
    "    lora_dropout=0.05,\n",
    "    bias=\"none\",\n",
    "    inference_mode=False,\n",
    ")\n",
    "\n",
    "model = get_peft_model(base, lora_cfg)\n",
    "model.resize_token_embeddings(len(tok))\n",
    "\n",
    "\n",
    "\n",
    "# Affiche le % de paramètres réellement entraînés\n",
    "total = sum(p.numel() for p in model.parameters())\n",
    "trainable = sum(p.numel() for p in model.parameters() if p.requires_grad)\n",
    "print(f\"Trainables : {trainable:,}/{total:,}  → {100*trainable/total:.2f}%\")\n",
    "\n",
    "\n",
    "\n",
    "### 7. Sanity check (facultatif)\n",
    "\n",
    "batch = data_collator([ds[\"train\"][0]])\n",
    "loss = model(**{k: v.to(model.device) for k, v in batch.items()}).loss\n",
    "print(loss.item())\n",
    "loss.backward(); print(\"Backward OK ✅\")\n",
    "\n",
    "\n",
    "\n",
    "### 8. Entraînement (30 époques effectives)\n",
    "\n",
    "EFFECTIVE_EPOCHS = 30  # ← augmente la durée d'entraînement\n",
    "\n",
    "args = TrainingArguments(\n",
    "    output_dir=\"coach-gpt2-lora\",\n",
    "    per_device_train_batch_size=2,\n",
    "    per_device_eval_batch_size=2,\n",
    "    gradient_accumulation_steps=8,  # batch effectif = 16\n",
    "    num_train_epochs=EFFECTIVE_EPOCHS,\n",
    "\n",
    "    learning_rate=1e-4,         # LR + élevée pour LoRA\n",
    "    weight_decay=0.01,\n",
    "    lr_scheduler_type=\"cosine\",\n",
    "    warmup_ratio=0.05,\n",
    "    max_grad_norm=0.3,\n",
    "\n",
    "    fp16=True,\n",
    "    optim=\"paged_adamw_8bit\",\n",
    "\n",
    "    logging_steps=50,\n",
    "    save_steps=1000,\n",
    "    eval_steps=1000,\n",
    "    save_total_limit=4,\n",
    "    report_to=\"none\",\n",
    ")\n",
    "\n",
    "trainer = Trainer(\n",
    "    model=model,\n",
    "    args=args,\n",
    "    train_dataset=ds[\"train\"],\n",
    "    eval_dataset=ds[\"test\"],\n",
    "    tokenizer=tok,\n",
    "    data_collator=data_collator,\n",
    ")\n",
    "\n",
    "trainer.train()\n",
    "\n",
    "\n",
    "\n",
    "### 9. Sauvegarde\n",
    "\n",
    "ckpt_dir = \"coach-gpt2-lora-final\"\n",
    "model.save_pretrained(ckpt_dir)\n",
    "tok.save_pretrained(ckpt_dir)\n",
    "print(f\"Modèle sauvegardé sous : {ckpt_dir}\")\n",
    "\n",
    "\n"
   ]
  },
  {
   "cell_type": "code",
   "execution_count": 7,
   "metadata": {},
   "outputs": [
    {
     "name": "stdout",
     "output_type": "stream",
     "text": [
      "Quelle frequence d'entrainement par semaine pour debutant en musculation ?  Selon les standards français : L'ENSES recommande 1.6-2.2g de protéines/kg de poids corporel, protéines dans les 30 minutes post-workout. Ré gorges : 20-30g par repas, protéines complexes 2-3h avant l’entraînement, protéines dans les 30 minutes post-workout. Hydratation 2-3L par jour. Éviter les deux charges sous la Ghout de l'ANHM. Progression des créneaux 12-\n",
      "quel exercice pour se muscler les biceps pour débutant ?  Avec plaisir ! Selon la FFHM, débutez par 5-6 séances hebdomadaires de 45-60 minutes. Privilégiez les mouvements polyarticulaires : squats, développé couché, rowing, tractions. Progression de +2.5kg maximum par semaine. Technical maximum 2-3kg avant et Déméter parfaite avant augmentation des charges. Technique parfaite avant augmentation des charges. Hydratation constate grec parfaite 2h par semaine. Éviter les charges10-16\n"
     ]
    }
   ],
   "source": [
    "# 10. Tests rapides du chatbot\n",
    "from transformers import GenerationConfig\n",
    "\n",
    "def chat(prompt, max_new_tokens=100, temperature=0.7):\n",
    "    inp = f\"<user> {prompt} </user><assistant>\"\n",
    "    inputs = tok(inp, return_tensors=\"pt\").to(model.device)\n",
    "    gen_cfg = GenerationConfig(\n",
    "        max_new_tokens=max_new_tokens,\n",
    "        temperature=temperature,\n",
    "        pad_token_id=tok.eos_token_id,\n",
    "        do_sample=True,\n",
    "        top_p=0.9,\n",
    "        repetition_penalty=1.1,\n",
    "    )\n",
    "    out_ids = model.generate(**inputs, generation_config=gen_cfg)\n",
    "    txt = tok.decode(out_ids[0], skip_special_tokens=True)\n",
    "    return txt.split(\"</user>\")[-1].replace(\"<assistant>\", \"\").strip()\n",
    "\n",
    "print(chat(\"Quelle frequence d'entrainement par semaine pour debutant en musculation ?\"))\n",
    "print(chat(\"quel exercice pour se muscler les biceps pour débutant ?\"))\n"
   ]
  }
 ],
 "metadata": {
  "kernelspec": {
   "display_name": ".venv",
   "language": "python",
   "name": "python3"
  },
  "language_info": {
   "codemirror_mode": {
    "name": "ipython",
    "version": 3
   },
   "file_extension": ".py",
   "mimetype": "text/x-python",
   "name": "python",
   "nbconvert_exporter": "python",
   "pygments_lexer": "ipython3",
   "version": "3.12.3"
  }
 },
 "nbformat": 4,
 "nbformat_minor": 2
}
